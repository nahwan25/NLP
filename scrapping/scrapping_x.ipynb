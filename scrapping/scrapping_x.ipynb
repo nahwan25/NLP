{
  "nbformat": 4,
  "nbformat_minor": 0,
  "metadata": {
    "colab": {
      "provenance": []
    },
    "kernelspec": {
      "name": "python3",
      "display_name": "Python 3"
    },
    "language_info": {
      "name": "python"
    }
  },
  "cells": [
    {
      "cell_type": "code",
      "execution_count": null,
      "metadata": {
        "colab": {
          "base_uri": "https://localhost:8080/"
        },
        "id": "bvViGevbbs6n",
        "outputId": "04065405-ca69-4d29-d5d5-265dc257d688"
      },
      "outputs": [
        {
          "output_type": "stream",
          "name": "stdout",
          "text": [
            "Requirement already satisfied: pandas in /usr/local/lib/python3.11/dist-packages (2.2.2)\n",
            "Requirement already satisfied: numpy>=1.23.2 in /usr/local/lib/python3.11/dist-packages (from pandas) (2.0.2)\n",
            "Requirement already satisfied: python-dateutil>=2.8.2 in /usr/local/lib/python3.11/dist-packages (from pandas) (2.9.0.post0)\n",
            "Requirement already satisfied: pytz>=2020.1 in /usr/local/lib/python3.11/dist-packages (from pandas) (2025.2)\n",
            "Requirement already satisfied: tzdata>=2022.7 in /usr/local/lib/python3.11/dist-packages (from pandas) (2025.2)\n",
            "Requirement already satisfied: six>=1.5 in /usr/local/lib/python3.11/dist-packages (from python-dateutil>=2.8.2->pandas) (1.17.0)\n",
            "Hit:1 http://security.ubuntu.com/ubuntu jammy-security InRelease\n",
            "Hit:2 http://archive.ubuntu.com/ubuntu jammy InRelease\n",
            "Hit:3 http://archive.ubuntu.com/ubuntu jammy-updates InRelease\n",
            "Hit:4 http://archive.ubuntu.com/ubuntu jammy-backports InRelease\n",
            "Hit:5 https://cloud.r-project.org/bin/linux/ubuntu jammy-cran40/ InRelease\n",
            "Hit:6 https://developer.download.nvidia.com/compute/cuda/repos/ubuntu2204/x86_64  InRelease\n",
            "Hit:7 https://deb.nodesource.com/node_20.x nodistro InRelease\n",
            "Hit:8 https://ppa.launchpadcontent.net/deadsnakes/ppa/ubuntu jammy InRelease\n",
            "Hit:9 https://ppa.launchpadcontent.net/graphics-drivers/ppa/ubuntu jammy InRelease\n",
            "Hit:10 https://ppa.launchpadcontent.net/ubuntugis/ppa/ubuntu jammy InRelease\n",
            "Hit:11 https://r2u.stat.illinois.edu/ubuntu jammy InRelease\n",
            "Reading package lists... Done\n",
            "W: Skipping acquire of configured file 'main/source/Sources' as repository 'https://r2u.stat.illinois.edu/ubuntu jammy InRelease' does not seem to provide it (sources.list entry misspelt?)\n",
            "Reading package lists... Done\n",
            "Building dependency tree... Done\n",
            "Reading state information... Done\n",
            "ca-certificates is already the newest version (20240203~22.04.1).\n",
            "curl is already the newest version (7.81.0-1ubuntu1.20).\n",
            "gnupg is already the newest version (2.2.27-3ubuntu2.3).\n",
            "0 upgraded, 0 newly installed, 0 to remove and 38 not upgraded.\n",
            "gpg: cannot open '/dev/tty': No such device or address\n",
            "curl: (23) Failed writing body\n",
            "deb [signed-by=/etc/apt/keyrings/nodesource.gpg] https://deb.nodesource.com/node_20.x nodistro main\n",
            "Hit:1 http://archive.ubuntu.com/ubuntu jammy InRelease\n",
            "Hit:2 http://archive.ubuntu.com/ubuntu jammy-updates InRelease\n",
            "Hit:3 http://archive.ubuntu.com/ubuntu jammy-backports InRelease\n",
            "Hit:4 https://cloud.r-project.org/bin/linux/ubuntu jammy-cran40/ InRelease\n",
            "Hit:5 https://ppa.launchpadcontent.net/deadsnakes/ppa/ubuntu jammy InRelease\n",
            "Hit:6 https://developer.download.nvidia.com/compute/cuda/repos/ubuntu2204/x86_64  InRelease\n",
            "Hit:7 https://deb.nodesource.com/node_20.x nodistro InRelease\n",
            "Hit:8 http://security.ubuntu.com/ubuntu jammy-security InRelease\n",
            "Hit:9 https://ppa.launchpadcontent.net/graphics-drivers/ppa/ubuntu jammy InRelease\n",
            "Hit:10 https://ppa.launchpadcontent.net/ubuntugis/ppa/ubuntu jammy InRelease\n",
            "Hit:11 https://r2u.stat.illinois.edu/ubuntu jammy InRelease\n",
            "Reading package lists... Done\n",
            "W: Skipping acquire of configured file 'main/source/Sources' as repository 'https://r2u.stat.illinois.edu/ubuntu jammy InRelease' does not seem to provide it (sources.list entry misspelt?)\n",
            "Reading package lists... Done\n",
            "Building dependency tree... Done\n",
            "Reading state information... Done\n",
            "nodejs is already the newest version (20.19.2-1nodesource1).\n",
            "0 upgraded, 0 newly installed, 0 to remove and 38 not upgraded.\n",
            "v20.19.2\n"
          ]
        }
      ],
      "source": [
        "# Import required Python package\n",
        "!pip install pandas\n",
        "\n",
        "# Install Node.js (because tweet-harvest built using Node.js)\n",
        "!sudo apt-get update\n",
        "!sudo apt-get install -y ca-certificates curl gnupg\n",
        "!sudo mkdir -p /etc/apt/keyrings\n",
        "!curl -fsSL https://deb.nodesource.com/gpgkey/nodesource-repo.gpg.key | sudo gpg --dearmor -o /etc/apt/keyrings/nodesource.gpg\n",
        "\n",
        "!NODE_MAJOR=20 && echo \"deb [signed-by=/etc/apt/keyrings/nodesource.gpg] https://deb.nodesource.com/node_$NODE_MAJOR.x nodistro main\" | sudo tee /etc/apt/sources.list.d/nodesource.list\n",
        "\n",
        "!sudo apt-get update\n",
        "!sudo apt-get install nodejs -y\n",
        "\n",
        "!node -v"
      ]
    },
    {
      "cell_type": "code",
      "source": [
        "# Crawl Data\n",
        "\n",
        "filename = 'idol 13 ke elim.csv'\n",
        "search_keyword = 'idol 13 ke elim'\n",
        "limit = 5000\n",
        "\n",
        "!npx --yes tweet-harvest@latest -o \"{filename}\" -s \"{search_keyword}\" -l {limit}"
      ],
      "metadata": {
        "colab": {
          "base_uri": "https://localhost:8080/"
        },
        "id": "F6vKU_n_bzWZ",
        "outputId": "010cfa36-6c9d-491d-d6af-ce60bd95a2e8"
      },
      "execution_count": null,
      "outputs": [
        {
          "output_type": "stream",
          "name": "stdout",
          "text": [
            "\u001b[1G\u001b[0K⠙\u001b[1G\u001b[0K⠹\u001b[1G\u001b[0K⠸\u001b[1G\u001b[0K⠼\u001b[1G\u001b[0K⠴\u001b[1G\u001b[0K⠦\u001b[1G\u001b[0K⠧\u001b[1G\u001b[0K⠇\u001b[1G\u001b[0K⠏\u001b[1G\u001b[0K⠋\u001b[1G\u001b[0K⠙\u001b[1G\u001b[0K⠹\u001b[1G\u001b[0K⠸\u001b[1G\u001b[0K⠼\u001b[1G\u001b[0K\u001b[1m\u001b[32mTweet Harvest [v2.6.1]\u001b[39m\u001b[22m\n",
            "\u001b[1m\u001b[32m\u001b[39m\u001b[22m\n",
            "\u001b[34mResearch by \u001b[39m\u001b[1m\u001b[34mHelmi Satria\u001b[39m\u001b[22m\u001b[34m\u001b[39m\n",
            "\u001b[34mUse it for Educational Purposes only!\u001b[39m\n",
            "\u001b[34m\u001b[39m\n",
            "\u001b[33mThis script uses Chromium Browser to crawl data from Twitter with \u001b[1myour Twitter auth token\u001b[22m.\u001b[39m\n",
            "\u001b[33mPlease enter your Twitter auth token when prompted.\u001b[39m\n",
            "\u001b[33m\u001b[39m\n",
            "\u001b[31m\u001b[1mNote:\u001b[22m\u001b[39m Keep your access token secret! Don't share it with anyone else.\n",
            "\u001b[31m\u001b[1mNote:\u001b[22m\u001b[39m This script only runs on your local device.\n",
            "\n",
            "\u001b[2K\u001b[1G\u001b[36m?\u001b[39m \u001b[1mWhat's your Twitter auth token?\u001b[22m \u001b[90m›\u001b[39m \u001b7\u001b8\u001b[2K\u001b[1G\u001b[2K\u001b[1G\u001b[36m?\u001b[39m \u001b[1mWhat's your Twitter auth token?\u001b[22m \u001b[90m›\u001b[39m *\u001b7\u001b8\u001b[2K\u001b[1G\u001b[2K\u001b[1G\u001b[36m?\u001b[39m \u001b[1mWhat's your Twitter auth token?\u001b[22m \u001b[90m›\u001b[39m **\u001b7\u001b8\u001b[2K\u001b[1G\u001b[2K\u001b[1G\u001b[36m?\u001b[39m \u001b[1mWhat's your Twitter auth token?\u001b[22m \u001b[90m›\u001b[39m ***\u001b7\u001b8\u001b[2K\u001b[1G\u001b[2K\u001b[1G\u001b[36m?\u001b[39m \u001b[1mWhat's your Twitter auth token?\u001b[22m \u001b[90m›\u001b[39m ****\u001b7\u001b8\u001b[2K\u001b[1G\u001b[2K\u001b[1G\u001b[36m?\u001b[39m \u001b[1mWhat's your Twitter auth token?\u001b[22m \u001b[90m›\u001b[39m *****\u001b7\u001b8\u001b[2K\u001b[1G\u001b[2K\u001b[1G\u001b[36m?\u001b[39m \u001b[1mWhat's your Twitter auth token?\u001b[22m \u001b[90m›\u001b[39m ******\u001b7\u001b8\u001b[2K\u001b[1G\u001b[2K\u001b[1G\u001b[36m?\u001b[39m \u001b[1mWhat's your Twitter auth token?\u001b[22m \u001b[90m›\u001b[39m *******\u001b7\u001b8\u001b[2K\u001b[1G\u001b[2K\u001b[1G\u001b[36m?\u001b[39m \u001b[1mWhat's your Twitter auth token?\u001b[22m \u001b[90m›\u001b[39m ********\u001b7\u001b8\u001b[2K\u001b[1G\u001b[2K\u001b[1G\u001b[36m?\u001b[39m \u001b[1mWhat's your Twitter auth token?\u001b[22m \u001b[90m›\u001b[39m *********\u001b7\u001b8\u001b[2K\u001b[1G\u001b[2K\u001b[1G\u001b[36m?\u001b[39m \u001b[1mWhat's your Twitter auth token?\u001b[22m \u001b[90m›\u001b[39m **********\u001b7\u001b8\u001b[2K\u001b[1G\u001b[2K\u001b[1G\u001b[36m?\u001b[39m \u001b[1mWhat's your Twitter auth token?\u001b[22m \u001b[90m›\u001b[39m ***********\u001b7\u001b8\u001b[2K\u001b[1G\u001b[2K\u001b[1G\u001b[36m?\u001b[39m \u001b[1mWhat's your Twitter auth token?\u001b[22m \u001b[90m›\u001b[39m ************\u001b7\u001b8\u001b[2K\u001b[1G\u001b[2K\u001b[1G\u001b[36m?\u001b[39m \u001b[1mWhat's your Twitter auth token?\u001b[22m \u001b[90m›\u001b[39m *************\u001b7\u001b8\u001b[2K\u001b[1G\u001b[2K\u001b[1G\u001b[36m?\u001b[39m \u001b[1mWhat's your Twitter auth token?\u001b[22m \u001b[90m›\u001b[39m **************\u001b7\u001b8\u001b[2K\u001b[1G\u001b[2K\u001b[1G\u001b[36m?\u001b[39m \u001b[1mWhat's your Twitter auth token?\u001b[22m \u001b[90m›\u001b[39m ***************\u001b7\u001b8\u001b[2K\u001b[1G\u001b[2K\u001b[1G\u001b[36m?\u001b[39m \u001b[1mWhat's your Twitter auth token?\u001b[22m \u001b[90m›\u001b[39m ****************\u001b7\u001b8\u001b[2K\u001b[1G\u001b[2K\u001b[1G\u001b[36m?\u001b[39m \u001b[1mWhat's your Twitter auth token?\u001b[22m \u001b[90m›\u001b[39m *****************\u001b7\u001b8\u001b[2K\u001b[1G\u001b[2K\u001b[1G\u001b[36m?\u001b[39m \u001b[1mWhat's your Twitter auth token?\u001b[22m \u001b[90m›\u001b[39m ******************\u001b7\u001b8\u001b[2K\u001b[1G\u001b[2K\u001b[1G\u001b[36m?\u001b[39m \u001b[1mWhat's your Twitter auth token?\u001b[22m \u001b[90m›\u001b[39m *******************\u001b7\u001b8\u001b[2K\u001b[1G\u001b[2K\u001b[1G\u001b[36m?\u001b[39m \u001b[1mWhat's your Twitter auth token?\u001b[22m \u001b[90m›\u001b[39m ********************\u001b7\u001b8\u001b[2K\u001b[1G\u001b[2K\u001b[1G\u001b[36m?\u001b[39m \u001b[1mWhat's your Twitter auth token?\u001b[22m \u001b[90m›\u001b[39m *********************\u001b7\u001b8\u001b[2K\u001b[1G\u001b[2K\u001b[1G\u001b[36m?\u001b[39m \u001b[1mWhat's your Twitter auth token?\u001b[22m \u001b[90m›\u001b[39m **********************\u001b7\u001b8\u001b[2K\u001b[1G\u001b[2K\u001b[1G\u001b[36m?\u001b[39m \u001b[1mWhat's your Twitter auth token?\u001b[22m \u001b[90m›\u001b[39m ***********************\u001b7\u001b8\u001b[2K\u001b[1G\u001b[2K\u001b[1G\u001b[36m?\u001b[39m \u001b[1mWhat's your Twitter auth token?\u001b[22m \u001b[90m›\u001b[39m ************************\u001b7\u001b8\u001b[2K\u001b[1G\u001b[2K\u001b[1G\u001b[36m?\u001b[39m \u001b[1mWhat's your Twitter auth token?\u001b[22m \u001b[90m›\u001b[39m *************************\u001b7\u001b8\u001b[2K\u001b[1G\u001b[2K\u001b[1G\u001b[36m?\u001b[39m \u001b[1mWhat's your Twitter auth token?\u001b[22m \u001b[90m›\u001b[39m **************************\u001b7\u001b8\u001b[2K\u001b[1G\u001b[2K\u001b[1G\u001b[36m?\u001b[39m \u001b[1mWhat's your Twitter auth token?\u001b[22m \u001b[90m›\u001b[39m ***************************\u001b7\u001b8\u001b[2K\u001b[1G\u001b[2K\u001b[1G\u001b[36m?\u001b[39m \u001b[1mWhat's your Twitter auth token?\u001b[22m \u001b[90m›\u001b[39m ****************************\u001b7\u001b8\u001b[2K\u001b[1G\u001b[2K\u001b[1G\u001b[36m?\u001b[39m \u001b[1mWhat's your Twitter auth token?\u001b[22m \u001b[90m›\u001b[39m *****************************\u001b7\u001b8\u001b[2K\u001b[1G\u001b[2K\u001b[1G\u001b[36m?\u001b[39m \u001b[1mWhat's your Twitter auth token?\u001b[22m \u001b[90m›\u001b[39m ******************************\u001b7\u001b8\u001b[2K\u001b[1G\u001b[2K\u001b[1G\u001b[36m?\u001b[39m \u001b[1mWhat's your Twitter auth token?\u001b[22m \u001b[90m›\u001b[39m *******************************\u001b7\u001b8\u001b[2K\u001b[1G\u001b[2K\u001b[1G\u001b[36m?\u001b[39m \u001b[1mWhat's your Twitter auth token?\u001b[22m \u001b[90m›\u001b[39m ********************************\u001b7\u001b8\u001b[2K\u001b[1G\u001b[2K\u001b[1G\u001b[36m?\u001b[39m \u001b[1mWhat's your Twitter auth token?\u001b[22m \u001b[90m›\u001b[39m *********************************\u001b7\u001b8\u001b[2K\u001b[1G\u001b[2K\u001b[1G\u001b[36m?\u001b[39m \u001b[1mWhat's your Twitter auth token?\u001b[22m \u001b[90m›\u001b[39m **********************************\u001b7\u001b8\u001b[2K\u001b[1G\u001b[2K\u001b[1G\u001b[36m?\u001b[39m \u001b[1mWhat's your Twitter auth token?\u001b[22m \u001b[90m›\u001b[39m ***********************************\u001b7\u001b8\u001b[2K\u001b[1G\u001b[2K\u001b[1G\u001b[36m?\u001b[39m \u001b[1mWhat's your Twitter auth token?\u001b[22m \u001b[90m›\u001b[39m ************************************\u001b7\u001b8\u001b[2K\u001b[1G\u001b[2K\u001b[1G\u001b[36m?\u001b[39m \u001b[1mWhat's your Twitter auth token?\u001b[22m \u001b[90m›\u001b[39m *************************************\u001b7\u001b8\u001b[2K\u001b[1G\u001b[2K\u001b[1G\u001b[36m?\u001b[39m \u001b[1mWhat's your Twitter auth token?\u001b[22m \u001b[90m›\u001b[39m **************************************\u001b7\u001b8\u001b[2K\u001b[1G\u001b[2K\u001b[1G\u001b[36m?\u001b[39m \u001b[1mWhat's your Twitter auth token?\u001b[22m \u001b[90m›\u001b[39m ***************************************\u001b7\u001b8\u001b[2K\u001b[1G\u001b[2K\u001b[1G\u001b[36m?\u001b[39m \u001b[1mWhat's your Twitter auth token?\u001b[22m \u001b[90m›\u001b[39m ****************************************\u001b7\u001b8\u001b[2K\u001b[1G\u001b[2K\u001b[1G\u001b[32m✔\u001b[39m \u001b[1mWhat's your Twitter auth token?\u001b[22m \u001b[90m…\u001b[39m ****************************************\u001b7\u001b8\n",
            "\u001b[?25h\u001b[34m\u001b[39m\n",
            "\u001b[34mOpening twitter search page...\u001b[39m\n",
            "\u001b[34m\u001b[39m\n",
            "\u001b[90m\u001b[39m\n",
            "\u001b[90m-- Scrolling... (1)\u001b[39m\u001b[33m\u001b[39m\n",
            "\u001b[33mFilling in keywords: idol 13 ke elim\u001b[39m\n",
            "\u001b[33m\u001b[39m\n",
            "\u001b[90m (2)\u001b[39m\u001b[90m (3)\u001b[39m\u001b[90m (4)\u001b[39m\u001b[90m (5)\u001b[39m\u001b[90m (6)\u001b[39m\u001b[34m\u001b[39m\n",
            "\u001b[34m\u001b[39m\n",
            "\u001b[34mYour tweets saved to: /content/tweets-data/idol_13_ke_elim.csv\u001b[39m\n",
            "\u001b[33mTotal tweets saved: 20\u001b[39m\n",
            "\u001b[90m\u001b[39m\n",
            "\u001b[90m-- Scrolling... (1)\u001b[39m\u001b[34m\u001b[39m\n",
            "\u001b[34m\u001b[39m\n",
            "\u001b[34mYour tweets saved to: /content/tweets-data/idol_13_ke_elim.csv\u001b[39m\n",
            "\u001b[33mTotal tweets saved: 32\u001b[39m\n",
            "\u001b[90m\u001b[39m\n",
            "\u001b[90m-- Scrolling... (1)\u001b[39m\u001b[34m\u001b[39m\n",
            "\u001b[34m\u001b[39m\n",
            "\u001b[34mYour tweets saved to: /content/tweets-data/idol_13_ke_elim.csv\u001b[39m\n",
            "\u001b[33mTotal tweets saved: 49\u001b[39m\n",
            "\u001b[90m\u001b[39m\n",
            "\u001b[90m-- Scrolling... (1)\u001b[39m\u001b[34m\u001b[39m\n",
            "\u001b[34m\u001b[39m\n",
            "\u001b[34mYour tweets saved to: /content/tweets-data/idol_13_ke_elim.csv\u001b[39m\n",
            "\u001b[33mTotal tweets saved: 57\u001b[39m\n",
            "\u001b[34m\u001b[39m\n",
            "\u001b[34m\u001b[39m\n",
            "\u001b[34mYour tweets saved to: /content/tweets-data/idol_13_ke_elim.csv\u001b[39m\n",
            "\u001b[33mTotal tweets saved: 65\u001b[39m\n",
            "\u001b[34m\u001b[39m\n",
            "\u001b[34m\u001b[39m\n",
            "\u001b[34mYour tweets saved to: /content/tweets-data/idol_13_ke_elim.csv\u001b[39m\n",
            "\u001b[33mTotal tweets saved: 66\u001b[39m\n",
            "\u001b[90m\u001b[39m\n",
            "\u001b[90m-- Scrolling... (1)\u001b[39m\u001b[90m (2)\u001b[39m\u001b[90m (3)\u001b[39m\u001b[90m (4)\u001b[39m\u001b[90m (5)\u001b[39m\u001b[90m (6)\u001b[39m\u001b[90m (7)\u001b[39m\u001b[90m (8)\u001b[39m\u001b[90m (9)\u001b[39m\u001b[90m (10)\u001b[39m\u001b[90m (11)\u001b[39m\u001b[90m (12)\u001b[39m\u001b[90m (13)\u001b[39m\u001b[90m (14)\u001b[39m\u001b[90m (15)\u001b[39m\u001b[90m (16)\u001b[39m\u001b[90m (17)\u001b[39m\u001b[90m (18)\u001b[39m\u001b[90m (19)\u001b[39m\u001b[90m (20)\u001b[39m\u001b[90m (21)\u001b[39m\u001b[33mNo more tweets found, please check your search criteria and csv file result\u001b[39m\n",
            "\u001b[33mTimeout reached 1 times, making sure again...\u001b[39m\n",
            "\u001b[90m\u001b[39m\n",
            "\u001b[90m-- Scrolling... (1)\u001b[39m\u001b[90m[v2.6.1]\u001b[39m No more tweets found, please check your search criteria and csv file result\n",
            "\u001b[90m\u001b[39m\n",
            "\u001b[90m-- Scrolling... (1)\u001b[39m\u001b[90m (2)\u001b[39m\u001b[90m (3)\u001b[39m\u001b[90m (4)\u001b[39m\u001b[90m (5)\u001b[39m\u001b[90m (6)\u001b[39m\u001b[90m (7)\u001b[39m\u001b[90m (8)\u001b[39m\u001b[90m (9)\u001b[39m\u001b[90m (10)\u001b[39m\u001b[90m (11)\u001b[39m\u001b[90m (12)\u001b[39m\u001b[90m (13)\u001b[39m\u001b[90m (14)\u001b[39m\u001b[90m (15)\u001b[39m\u001b[90m (16)\u001b[39m\u001b[90m (17)\u001b[39m\u001b[90m (18)\u001b[39m\u001b[90m (19)\u001b[39m\u001b[90m (20)\u001b[39m\u001b[90m (21)\u001b[39m\u001b[33mNo more tweets found, please check your search criteria and csv file result\u001b[39m\n",
            "\u001b[33mTimeout reached 2 times, making sure again...\u001b[39m\n",
            "\u001b[90m\u001b[39m\n",
            "\u001b[90m-- Scrolling... (1)\u001b[39m\u001b[90m[v2.6.1]\u001b[39m No more tweets found, please check your search criteria and csv file result\n",
            "\u001b[90m\u001b[39m\n",
            "\u001b[90m-- Scrolling... (1)\u001b[39m\u001b[90m (2)\u001b[39m\u001b[90m (3)\u001b[39m\u001b[90m (4)\u001b[39m\u001b[90m (5)\u001b[39m\u001b[90m (6)\u001b[39m\u001b[90m (7)\u001b[39m\u001b[90m (8)\u001b[39m\u001b[90m (9)\u001b[39m\u001b[90m (10)\u001b[39m\u001b[90m (11)\u001b[39m\u001b[90m (12)\u001b[39m\u001b[90m (13)\u001b[39m\u001b[90m (14)\u001b[39m\u001b[90m (15)\u001b[39m\u001b[90m (16)\u001b[39m\u001b[90m (17)\u001b[39m\u001b[90m (18)\u001b[39m\u001b[90m (19)\u001b[39m\u001b[90m (20)\u001b[39m\u001b[90m (21)\u001b[39m\u001b[33mNo more tweets found, please check your search criteria and csv file result\u001b[39m\n",
            "\u001b[33mTimeout reached 3 times, making sure again...\u001b[39m\n",
            "\u001b[90m\u001b[39m\n",
            "\u001b[90m-- Scrolling... (1)\u001b[39m\u001b[90m (2)\u001b[39m\u001b[90m[v2.6.1]\u001b[39m No more tweets found, please check your search criteria and csv file result\n",
            "\u001b[90m\u001b[39m\n",
            "\u001b[90m-- Scrolling... (1)\u001b[39m\u001b[90m (2)\u001b[39m\u001b[90m (3)\u001b[39m\u001b[90m (4)\u001b[39m\u001b[90m (5)\u001b[39m\u001b[90m (6)\u001b[39m\u001b[90m (7)\u001b[39m\u001b[90m (8)\u001b[39m\u001b[90m (9)\u001b[39m\u001b[90m (10)\u001b[39m\u001b[90m (11)\u001b[39m\u001b[90m (12)\u001b[39m\u001b[90m (13)\u001b[39m\u001b[90m (14)\u001b[39m\u001b[90m (15)\u001b[39m\u001b[90m (16)\u001b[39m\u001b[90m (17)\u001b[39m\u001b[90m (18)\u001b[39m\u001b[90m (19)\u001b[39m\u001b[90m (20)\u001b[39mGot 66 tweets, done scrolling...\n",
            "\u001b[1G\u001b[0K⠙\u001b[1G\u001b[0K"
          ]
        }
      ]
    }
  ]
}